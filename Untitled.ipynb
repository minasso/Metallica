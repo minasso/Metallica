{
 "cells": [
  {
   "cell_type": "code",
   "execution_count": 1,
   "metadata": {
    "collapsed": true
   },
   "outputs": [],
   "source": [
    "import re\n",
    "import string"
   ]
  },
  {
   "cell_type": "code",
   "execution_count": 3,
   "metadata": {},
   "outputs": [],
   "source": [
    "document_text = open('lyrics.txt', 'r')\n",
    "text_string = document_text.read().lower()\n",
    "# text_string.replace(',','')"
   ]
  },
  {
   "cell_type": "code",
   "execution_count": 64,
   "metadata": {
    "collapsed": true
   },
   "outputs": [],
   "source": [
    "# match_pattern = re.findall(r\"\\bdies?\\b|\\bdeath\\b|\\bdeadl?y?\\b|\\bdying\\b|kill|\\bhell|\\bevil\\b\", text_string)\n",
    "match_pattern = re.findall(r\"\\bdies?\\b|\\bdeath\\b|\\bdeadl?y?\\b|\\bdying\\b|kill|murder\", text_string)"
   ]
  },
  {
   "cell_type": "code",
   "execution_count": 65,
   "metadata": {},
   "outputs": [
    {
     "data": {
      "text/plain": [
       "280"
      ]
     },
     "execution_count": 65,
     "metadata": {},
     "output_type": "execute_result"
    }
   ],
   "source": [
    "len(match_pattern)"
   ]
  },
  {
   "cell_type": "code",
   "execution_count": 62,
   "metadata": {
    "collapsed": true
   },
   "outputs": [],
   "source": [
    "frequency = {}\n",
    "for word in match_pattern:\n",
    "    count = frequency.get(word,0)\n",
    "    frequency[word] = count + 1"
   ]
  },
  {
   "cell_type": "code",
   "execution_count": 63,
   "metadata": {},
   "outputs": [
    {
     "name": "stdout",
     "output_type": "stream",
     "text": [
      "dies 1\n",
      "dead 36\n",
      "die 79\n",
      "murder 3\n",
      "dying 20\n",
      "kill 85\n",
      "deadly 5\n",
      "death 51\n"
     ]
    }
   ],
   "source": [
    "frequency_list = frequency.keys()\n",
    " \n",
    "for words in frequency_list:\n",
    "    print (words, frequency[words])"
   ]
  },
  {
   "cell_type": "markdown",
   "metadata": {},
   "source": [
    "hellfire 1\n",
    "hell's 2 \n",
    "hello 1\n",
    "hellish 1\n",
    "shell"
   ]
  },
  {
   "cell_type": "markdown",
   "metadata": {},
   "source": [
    "overkill 9\n",
    "killing\n",
    "kills"
   ]
  },
  {
   "cell_type": "code",
   "execution_count": 31,
   "metadata": {},
   "outputs": [
    {
     "name": "stdout",
     "output_type": "stream",
     "text": [
      "dies 1\n",
      "dying 20\n",
      "dead 36\n",
      "die 79\n",
      "hell 55\n",
      "kill 48\n",
      "evil 29\n",
      "death 51\n"
     ]
    }
   ],
   "source": [
    "frequency_list = frequency.keys()\n",
    " \n",
    "for words in frequency_list:\n",
    "    print (words, frequency[words])"
   ]
  },
  {
   "cell_type": "code",
   "execution_count": 27,
   "metadata": {},
   "outputs": [
    {
     "name": "stdout",
     "output_type": "stream",
     "text": [
      "dies 1\n",
      "dying 21\n",
      "dead 41\n",
      "die 79\n",
      "hell 63\n",
      "kill 85\n",
      "evil 44\n",
      "death 51\n"
     ]
    }
   ],
   "source": [
    "frequency_list = frequency.keys()\n",
    " \n",
    "for words in frequency_list:\n",
    "    print (words, frequency[words])"
   ]
  }
 ],
 "metadata": {
  "kernelspec": {
   "display_name": "Python 3",
   "language": "python",
   "name": "python3"
  },
  "language_info": {
   "codemirror_mode": {
    "name": "ipython",
    "version": 3
   },
   "file_extension": ".py",
   "mimetype": "text/x-python",
   "name": "python",
   "nbconvert_exporter": "python",
   "pygments_lexer": "ipython3",
   "version": "3.5.2"
  }
 },
 "nbformat": 4,
 "nbformat_minor": 2
}
