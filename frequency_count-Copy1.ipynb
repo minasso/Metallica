{
 "cells": [
  {
   "cell_type": "code",
   "execution_count": 14,
   "metadata": {
    "collapsed": true
   },
   "outputs": [],
   "source": [
    "import re\n",
    "import string"
   ]
  },
  {
   "cell_type": "code",
   "execution_count": 28,
   "metadata": {},
   "outputs": [],
   "source": [
    "document_text = open('lyrics.txt', 'r')\n",
    "text_string = document_text.read().lower().strip()\n",
    "lyrics = text_string.replace('\\n',' ').replace(',','').replace('-','')"
   ]
  },
  {
   "cell_type": "code",
   "execution_count": 29,
   "metadata": {
    "collapsed": true
   },
   "outputs": [],
   "source": [
    "# match_pattern = re.findall(r\"\\bdies?\\b|\\bdeath\\b|\\bdeadl?y?\\b|\\bdying\\b|kill|\\bhell|\\bevil\\b\", text_string)\n",
    "match_pattern = re.findall(r\"\\bdies?\\b|\\bdeath\\b|\\bdeadl?y?\\b|\\bdying\\b|kill|murder|suicide\", lyrics)"
   ]
  },
  {
   "cell_type": "code",
   "execution_count": 30,
   "metadata": {},
   "outputs": [
    {
     "data": {
      "text/plain": [
       "372"
      ]
     },
     "execution_count": 30,
     "metadata": {},
     "output_type": "execute_result"
    }
   ],
   "source": [
    "len(match_pattern)"
   ]
  },
  {
   "cell_type": "code",
   "execution_count": 31,
   "metadata": {
    "collapsed": true
   },
   "outputs": [],
   "source": [
    "frequency = {}\n",
    "for word in match_pattern:\n",
    "    count = frequency.get(word,0)\n",
    "    frequency[word] = count + 1"
   ]
  },
  {
   "cell_type": "code",
   "execution_count": 32,
   "metadata": {},
   "outputs": [
    {
     "name": "stdout",
     "output_type": "stream",
     "text": [
      "suicide 6\n",
      "dies 2\n",
      "kill 108\n",
      "death 70\n",
      "dead 51\n",
      "dying 24\n",
      "die 97\n",
      "deadly 6\n",
      "murder 8\n"
     ]
    }
   ],
   "source": [
    "frequency_list = frequency.keys()\n",
    " \n",
    "for words in frequency_list:\n",
    "    print (words, frequency[words])"
   ]
  },
  {
   "cell_type": "markdown",
   "metadata": {},
   "source": [
    "Now try using nltk methods to enhance results"
   ]
  },
  {
   "cell_type": "code",
   "execution_count": 85,
   "metadata": {
    "collapsed": true
   },
   "outputs": [],
   "source": [
    "def findem(wordset):\n",
    "    table = str.maketrans({key: None for key in string.punctuation})\n",
    "    wordset = wordset.translate(table)  \n",
    "    stopwords = nltk.corpus.stopwords.words('english')\n",
    "    dist = nltk.FreqDist(w.lower() for w in wordset.split() if w not in stopwords)  \n",
    "    common= dist.most_common(100)\n",
    "    return(dist,common)"
   ]
  },
  {
   "cell_type": "code",
   "execution_count": 86,
   "metadata": {},
   "outputs": [],
   "source": [
    "dist,common = findem(lyrics)"
   ]
  },
  {
   "cell_type": "code",
   "execution_count": 87,
   "metadata": {},
   "outputs": [
    {
     "data": {
      "text/plain": [
       "[('im', 331),\n",
       " ('yeah', 300),\n",
       " ('see', 202),\n",
       " ('never', 195),\n",
       " ('na', 153),\n",
       " ('dont', 151),\n",
       " ('away', 144),\n",
       " ('cant', 144),\n",
       " ('take', 139),\n",
       " ('one', 135),\n",
       " ('time', 132),\n",
       " ('oh', 119),\n",
       " ('come', 113),\n",
       " ('back', 113),\n",
       " ('life', 112),\n",
       " ('let', 108),\n",
       " ('way', 108),\n",
       " ('go', 101),\n",
       " ('ive', 99),\n",
       " ('die', 97),\n",
       " ('like', 93),\n",
       " ('make', 92),\n",
       " ('hell', 90),\n",
       " ('know', 89),\n",
       " ('gone', 87),\n",
       " ('hey', 87),\n",
       " ('ill', 87),\n",
       " ('youre', 87),\n",
       " ('hear', 86),\n",
       " ('feel', 86),\n",
       " ('want', 84),\n",
       " ('say', 83),\n",
       " ('fire', 79),\n",
       " ('world', 79),\n",
       " ('get', 77),\n",
       " ('right', 75),\n",
       " ('man', 70),\n",
       " ('death', 69),\n",
       " ('kill', 68),\n",
       " ('heart', 67),\n",
       " ('day', 67),\n",
       " ('within', 65),\n",
       " ('got', 64),\n",
       " ('eyes', 63),\n",
       " ('still', 63),\n",
       " ('comes', 63),\n",
       " ('end', 63),\n",
       " ('free', 62),\n",
       " ('face', 61),\n",
       " ('tick', 60),\n",
       " ('love', 59),\n",
       " ('believe', 59),\n",
       " ('gonna', 59),\n",
       " ('live', 58),\n",
       " ('ooh', 55),\n",
       " ('pain', 52),\n",
       " ('another', 52),\n",
       " ('open', 51),\n",
       " ('dead', 51),\n",
       " ('better', 51),\n",
       " ('done', 51),\n",
       " ('inside', 50),\n",
       " ('hate', 50),\n",
       " ('ya', 49),\n",
       " ('blood', 48),\n",
       " ('little', 48),\n",
       " ('us', 48),\n",
       " ('much', 47),\n",
       " ('nothing', 46),\n",
       " ('light', 46),\n",
       " ('feeling', 46),\n",
       " ('look', 45),\n",
       " ('give', 44),\n",
       " ('find', 44),\n",
       " ('think', 44),\n",
       " ('head', 43),\n",
       " ('theres', 43),\n",
       " ('need', 43),\n",
       " ('fear', 43),\n",
       " ('run', 42),\n",
       " ('soul', 42),\n",
       " ('cause', 41),\n",
       " ('aint', 40),\n",
       " ('wont', 40),\n",
       " ('anger', 39),\n",
       " ('keep', 39),\n",
       " ('turn', 39),\n",
       " ('mind', 39),\n",
       " ('fall', 38),\n",
       " ('master', 38),\n",
       " ('train', 38),\n",
       " ('sweet', 38),\n",
       " ('alive', 37),\n",
       " ('cannot', 37),\n",
       " ('stand', 37),\n",
       " ('shoot', 36),\n",
       " ('hard', 36),\n",
       " ('girl', 35),\n",
       " ('hes', 35),\n",
       " ('cry', 35)]"
      ]
     },
     "execution_count": 87,
     "metadata": {},
     "output_type": "execute_result"
    }
   ],
   "source": [
    "common"
   ]
  }
 ],
 "metadata": {
  "kernelspec": {
   "display_name": "Python 3",
   "language": "python",
   "name": "python3"
  },
  "language_info": {
   "codemirror_mode": {
    "name": "ipython",
    "version": 3
   },
   "file_extension": ".py",
   "mimetype": "text/x-python",
   "name": "python",
   "nbconvert_exporter": "python",
   "pygments_lexer": "ipython3",
   "version": "3.5.2"
  }
 },
 "nbformat": 4,
 "nbformat_minor": 2
}
